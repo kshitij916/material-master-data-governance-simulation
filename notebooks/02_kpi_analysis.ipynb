{
 "cells": [
  {
   "cell_type": "code",
   "execution_count": 1,
   "id": "30a39e1d",
   "metadata": {},
   "outputs": [],
   "source": [
    "# 📓 02_kpi_analysis.ipynb\n",
    "\n",
    "# ## Step 1: Setup\n",
    "import sys\n",
    "import os\n",
    "import pandas as pd\n",
    "\n",
    "sys.path.append(os.path.abspath(\"..\"))\n",
    "\n",
    "from src.kpi_calculator import simulate_material_master, calculate_kpis\n"
   ]
  },
  {
   "cell_type": "code",
   "execution_count": 2,
   "id": "c3f8879a",
   "metadata": {},
   "outputs": [
    {
     "name": "stderr",
     "output_type": "stream",
     "text": [
      "C:\\Users\\pandi\\AppData\\Local\\Temp\\ipykernel_73860\\3963920442.py:2: DtypeWarning: Columns (0) have mixed types. Specify dtype option on import or set low_memory=False.\n",
      "  df_clean = pd.read_csv(\"../data/cleaned_retail_data.csv\")\n"
     ]
    },
    {
     "data": {
      "text/html": [
       "<div>\n",
       "<style scoped>\n",
       "    .dataframe tbody tr th:only-of-type {\n",
       "        vertical-align: middle;\n",
       "    }\n",
       "\n",
       "    .dataframe tbody tr th {\n",
       "        vertical-align: top;\n",
       "    }\n",
       "\n",
       "    .dataframe thead th {\n",
       "        text-align: right;\n",
       "    }\n",
       "</style>\n",
       "<table border=\"1\" class=\"dataframe\">\n",
       "  <thead>\n",
       "    <tr style=\"text-align: right;\">\n",
       "      <th></th>\n",
       "      <th>InvoiceNo</th>\n",
       "      <th>StockCode</th>\n",
       "      <th>Description</th>\n",
       "      <th>Quantity</th>\n",
       "      <th>InvoiceDate</th>\n",
       "      <th>UnitPrice</th>\n",
       "      <th>CustomerID</th>\n",
       "      <th>Country</th>\n",
       "    </tr>\n",
       "  </thead>\n",
       "  <tbody>\n",
       "    <tr>\n",
       "      <th>0</th>\n",
       "      <td>536365</td>\n",
       "      <td>85123A</td>\n",
       "      <td>White Hanging Heart T-Light Holder</td>\n",
       "      <td>6</td>\n",
       "      <td>2010-12-01 08:26:00</td>\n",
       "      <td>2.55</td>\n",
       "      <td>17850.0</td>\n",
       "      <td>United Kingdom</td>\n",
       "    </tr>\n",
       "    <tr>\n",
       "      <th>1</th>\n",
       "      <td>536365</td>\n",
       "      <td>71053</td>\n",
       "      <td>White Metal Lantern</td>\n",
       "      <td>6</td>\n",
       "      <td>2010-12-01 08:26:00</td>\n",
       "      <td>3.39</td>\n",
       "      <td>17850.0</td>\n",
       "      <td>United Kingdom</td>\n",
       "    </tr>\n",
       "    <tr>\n",
       "      <th>2</th>\n",
       "      <td>536365</td>\n",
       "      <td>84406B</td>\n",
       "      <td>Cream Cupid Hearts Coat Hanger</td>\n",
       "      <td>8</td>\n",
       "      <td>2010-12-01 08:26:00</td>\n",
       "      <td>2.75</td>\n",
       "      <td>17850.0</td>\n",
       "      <td>United Kingdom</td>\n",
       "    </tr>\n",
       "    <tr>\n",
       "      <th>3</th>\n",
       "      <td>536365</td>\n",
       "      <td>84029G</td>\n",
       "      <td>Knitted Union Flag Hot Water Bottle</td>\n",
       "      <td>6</td>\n",
       "      <td>2010-12-01 08:26:00</td>\n",
       "      <td>3.39</td>\n",
       "      <td>17850.0</td>\n",
       "      <td>United Kingdom</td>\n",
       "    </tr>\n",
       "    <tr>\n",
       "      <th>4</th>\n",
       "      <td>536365</td>\n",
       "      <td>84029E</td>\n",
       "      <td>Red Woolly Hottie White Heart.</td>\n",
       "      <td>6</td>\n",
       "      <td>2010-12-01 08:26:00</td>\n",
       "      <td>3.39</td>\n",
       "      <td>17850.0</td>\n",
       "      <td>United Kingdom</td>\n",
       "    </tr>\n",
       "  </tbody>\n",
       "</table>\n",
       "</div>"
      ],
      "text/plain": [
       "  InvoiceNo StockCode                          Description  Quantity  \\\n",
       "0    536365    85123A   White Hanging Heart T-Light Holder         6   \n",
       "1    536365     71053                  White Metal Lantern         6   \n",
       "2    536365    84406B       Cream Cupid Hearts Coat Hanger         8   \n",
       "3    536365    84029G  Knitted Union Flag Hot Water Bottle         6   \n",
       "4    536365    84029E       Red Woolly Hottie White Heart.         6   \n",
       "\n",
       "           InvoiceDate  UnitPrice CustomerID         Country  \n",
       "0  2010-12-01 08:26:00       2.55    17850.0  United Kingdom  \n",
       "1  2010-12-01 08:26:00       3.39    17850.0  United Kingdom  \n",
       "2  2010-12-01 08:26:00       2.75    17850.0  United Kingdom  \n",
       "3  2010-12-01 08:26:00       3.39    17850.0  United Kingdom  \n",
       "4  2010-12-01 08:26:00       3.39    17850.0  United Kingdom  "
      ]
     },
     "execution_count": 2,
     "metadata": {},
     "output_type": "execute_result"
    }
   ],
   "source": [
    "# ## Step 2: Load cleaned data\n",
    "df_clean = pd.read_csv(\"../data/cleaned_retail_data.csv\")\n",
    "df_clean.head()"
   ]
  },
  {
   "cell_type": "code",
   "execution_count": 3,
   "id": "ab213751",
   "metadata": {},
   "outputs": [
    {
     "data": {
      "text/html": [
       "<div>\n",
       "<style scoped>\n",
       "    .dataframe tbody tr th:only-of-type {\n",
       "        vertical-align: middle;\n",
       "    }\n",
       "\n",
       "    .dataframe tbody tr th {\n",
       "        vertical-align: top;\n",
       "    }\n",
       "\n",
       "    .dataframe thead th {\n",
       "        text-align: right;\n",
       "    }\n",
       "</style>\n",
       "<table border=\"1\" class=\"dataframe\">\n",
       "  <thead>\n",
       "    <tr style=\"text-align: right;\">\n",
       "      <th></th>\n",
       "      <th>MaterialNumber</th>\n",
       "      <th>MaterialDescription</th>\n",
       "      <th>MaterialType</th>\n",
       "      <th>BaseUnit</th>\n",
       "      <th>ProcurementType</th>\n",
       "      <th>Plant</th>\n",
       "      <th>ValuationClass</th>\n",
       "    </tr>\n",
       "  </thead>\n",
       "  <tbody>\n",
       "    <tr>\n",
       "      <th>0</th>\n",
       "      <td>85123A</td>\n",
       "      <td>White Hanging Heart T-Light Holder</td>\n",
       "      <td>HALB</td>\n",
       "      <td>EA</td>\n",
       "      <td>E</td>\n",
       "      <td>1000</td>\n",
       "      <td>3000</td>\n",
       "    </tr>\n",
       "    <tr>\n",
       "      <th>1</th>\n",
       "      <td>71053</td>\n",
       "      <td>White Metal Lantern</td>\n",
       "      <td>HALB</td>\n",
       "      <td>EA</td>\n",
       "      <td>E</td>\n",
       "      <td>1000</td>\n",
       "      <td>3000</td>\n",
       "    </tr>\n",
       "    <tr>\n",
       "      <th>2</th>\n",
       "      <td>84406B</td>\n",
       "      <td>Cream Cupid Hearts Coat Hanger</td>\n",
       "      <td>HALB</td>\n",
       "      <td>EA</td>\n",
       "      <td>E</td>\n",
       "      <td>1000</td>\n",
       "      <td>3000</td>\n",
       "    </tr>\n",
       "    <tr>\n",
       "      <th>3</th>\n",
       "      <td>84029G</td>\n",
       "      <td>Knitted Union Flag Hot Water Bottle</td>\n",
       "      <td>HALB</td>\n",
       "      <td>EA</td>\n",
       "      <td>E</td>\n",
       "      <td>1000</td>\n",
       "      <td>3000</td>\n",
       "    </tr>\n",
       "    <tr>\n",
       "      <th>4</th>\n",
       "      <td>84029E</td>\n",
       "      <td>Red Woolly Hottie White Heart.</td>\n",
       "      <td>HALB</td>\n",
       "      <td>EA</td>\n",
       "      <td>E</td>\n",
       "      <td>1000</td>\n",
       "      <td>3000</td>\n",
       "    </tr>\n",
       "  </tbody>\n",
       "</table>\n",
       "</div>"
      ],
      "text/plain": [
       "  MaterialNumber                  MaterialDescription MaterialType BaseUnit  \\\n",
       "0         85123A   White Hanging Heart T-Light Holder         HALB       EA   \n",
       "1          71053                  White Metal Lantern         HALB       EA   \n",
       "2         84406B       Cream Cupid Hearts Coat Hanger         HALB       EA   \n",
       "3         84029G  Knitted Union Flag Hot Water Bottle         HALB       EA   \n",
       "4         84029E       Red Woolly Hottie White Heart.         HALB       EA   \n",
       "\n",
       "  ProcurementType Plant ValuationClass  \n",
       "0               E  1000           3000  \n",
       "1               E  1000           3000  \n",
       "2               E  1000           3000  \n",
       "3               E  1000           3000  \n",
       "4               E  1000           3000  "
      ]
     },
     "execution_count": 3,
     "metadata": {},
     "output_type": "execute_result"
    }
   ],
   "source": [
    "# ## Step 3: Simulate Material Master Table\n",
    "df_materials = simulate_material_master(df_clean)\n",
    "df_materials.head()\n"
   ]
  },
  {
   "cell_type": "code",
   "execution_count": 4,
   "id": "0f5d4f6e",
   "metadata": {},
   "outputs": [
    {
     "name": "stdout",
     "output_type": "stream",
     "text": [
      "MaterialNumber         object\n",
      "MaterialDescription    object\n",
      "MaterialType           object\n",
      "BaseUnit               object\n",
      "ProcurementType        object\n",
      "Plant                  object\n",
      "ValuationClass         object\n",
      "dtype: object\n",
      "MaterialType\n",
      "HALB    4037\n",
      "FERT     121\n",
      "Name: count, dtype: int64\n"
     ]
    }
   ],
   "source": [
    "# ## Step 4: View structure and sample\n",
    "print(df_materials.dtypes)\n",
    "print(df_materials[\"MaterialType\"].value_counts())\n"
   ]
  },
  {
   "cell_type": "code",
   "execution_count": 5,
   "id": "e5cddc40",
   "metadata": {},
   "outputs": [
    {
     "name": "stdout",
     "output_type": "stream",
     "text": [
      "Total Materials: 4158\n",
      "Missing Descriptions: 0\n",
      "Duplicate Material Numbers: 236\n",
      "Unique Material Types: 2\n",
      "Materials with Short Description (<5 chars): 0\n",
      "% Missing Descriptions: 0.0\n"
     ]
    }
   ],
   "source": [
    "# ## Step 5: KPI Analysis\n",
    "kpi_results = calculate_kpis(df_materials)\n",
    "\n",
    "for k, v in kpi_results.items():\n",
    "    print(f\"{k}: {v}\")\n"
   ]
  },
  {
   "cell_type": "code",
   "execution_count": 6,
   "id": "f3851b16",
   "metadata": {},
   "outputs": [
    {
     "name": "stdout",
     "output_type": "stream",
     "text": [
      "✅ Simulated material master data saved.\n"
     ]
    }
   ],
   "source": [
    "# ## Step 6: Save for dashboard use\n",
    "df_materials.to_csv(\"../data/simulated_material_master.csv\", index=False)\n",
    "print(\"✅ Simulated material master data saved.\")\n"
   ]
  }
 ],
 "metadata": {
  "kernelspec": {
   "display_name": "Python 3",
   "language": "python",
   "name": "python3"
  },
  "language_info": {
   "codemirror_mode": {
    "name": "ipython",
    "version": 3
   },
   "file_extension": ".py",
   "mimetype": "text/x-python",
   "name": "python",
   "nbconvert_exporter": "python",
   "pygments_lexer": "ipython3",
   "version": "3.9.13"
  }
 },
 "nbformat": 4,
 "nbformat_minor": 5
}
